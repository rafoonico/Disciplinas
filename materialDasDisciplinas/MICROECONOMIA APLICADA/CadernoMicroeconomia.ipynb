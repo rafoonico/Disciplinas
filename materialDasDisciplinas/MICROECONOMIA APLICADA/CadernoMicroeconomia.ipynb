{
 "cells": [
  {
   "cell_type": "markdown",
   "metadata": {},
   "source": [
    "# Aula (10/08)\n",
    "\n",
    "- Comportamento do consumidor\n",
    "    - Etapas do comportamento do consumidor\n",
    "        - 1) Integralidade\n",
    "        - 2) Transitividade\n",
    "        - 3) Mais é melhor do que menos\n",
    "\n",
    "- Preferências do consumidor: produto A > produto B? Por que?\n",
    "\n",
    "- Restrições orçamentárias: faz com que o cosumidor tenha que escolher o que vai gastar\n",
    "\n",
    "- Curva de indiferença: todas as combinações possíveis dada uma restrição orçamentária\n",
    "\n",
    "- Curva de demanda individual: niveis de utilidade (vontade) varia conforme o preço\n",
    "\n",
    "- Modificações na renda deslocam a curva de renda-consumo\n",
    "\n",
    "- bens normais vs. bens inferiores \n",
    "\n",
    "- Curvas de engel: qtd consumida vs renda do indivíduo\n",
    "\n",
    "- Externalidades: positivas e negativas\n",
    "    - demanda de uma pessoa depende da demanda de outros indivíduos\n",
    "\n",
    "\n",
    "- Taxa marginal de substituição: derivadas das curvas de indiferenca\n",
    "\n",
    "- Bens nocivos: quantidades menores, maximizam o bem estar do consumidor\n",
    "\n",
    "- Funções utilizade\n",
    "    - Utilidade Ordinal\n",
    "    - Utilidade Cardinal\n",
    "    - \" Some Uses of Happiness Data in Economics\" - Rafael Di Talla e Robert MacCulloch\n",
    "        - Ver metodologia de quasi experimento (Jose Afonso Mazzon)\n",
    "        - Barber Ocean \"Boys will be boys\"\n",
    "\n",
    "- Elasticiade\n",
    "    - Elasticidade Preço da Demanda\n",
    "    - Elasticidade Preço da Oferta\n",
    "\n",
    "\n",
    "\n",
    "- Comportamento da Firma\n",
    "    - Curto Prazo vs longo Prazo\n",
    "    - Produto Médio e Produto Marginal\n",
    "    - Lei da Restrição Orçamentária\n"
   ]
  },
  {
   "cell_type": "code",
   "execution_count": 5,
   "metadata": {},
   "outputs": [
    {
     "name": "stderr",
     "output_type": "stream",
     "text": [
      "/tmp/ipykernel_6373/3667140669.py:7: RuntimeWarning:\n",
      "\n",
      "divide by zero encountered in divide\n",
      "\n"
     ]
    },
    {
     "data": {
      "application/vnd.plotly.v1+json": {
       "config": {
        "plotlyServerURL": "https://plot.ly"
       },
       "data": [
        {
         "type": "scatter",
         "x": [
          0,
          1,
          2,
          3,
          4,
          5
         ],
         "y": [
          null,
          5,
          2.5,
          1.6666666666666667,
          1.25,
          1
         ]
        }
       ],
       "layout": {
        "template": {
         "data": {
          "bar": [
           {
            "error_x": {
             "color": "#2a3f5f"
            },
            "error_y": {
             "color": "#2a3f5f"
            },
            "marker": {
             "line": {
              "color": "#E5ECF6",
              "width": 0.5
             },
             "pattern": {
              "fillmode": "overlay",
              "size": 10,
              "solidity": 0.2
             }
            },
            "type": "bar"
           }
          ],
          "barpolar": [
           {
            "marker": {
             "line": {
              "color": "#E5ECF6",
              "width": 0.5
             },
             "pattern": {
              "fillmode": "overlay",
              "size": 10,
              "solidity": 0.2
             }
            },
            "type": "barpolar"
           }
          ],
          "carpet": [
           {
            "aaxis": {
             "endlinecolor": "#2a3f5f",
             "gridcolor": "white",
             "linecolor": "white",
             "minorgridcolor": "white",
             "startlinecolor": "#2a3f5f"
            },
            "baxis": {
             "endlinecolor": "#2a3f5f",
             "gridcolor": "white",
             "linecolor": "white",
             "minorgridcolor": "white",
             "startlinecolor": "#2a3f5f"
            },
            "type": "carpet"
           }
          ],
          "choropleth": [
           {
            "colorbar": {
             "outlinewidth": 0,
             "ticks": ""
            },
            "type": "choropleth"
           }
          ],
          "contour": [
           {
            "colorbar": {
             "outlinewidth": 0,
             "ticks": ""
            },
            "colorscale": [
             [
              0,
              "#0d0887"
             ],
             [
              0.1111111111111111,
              "#46039f"
             ],
             [
              0.2222222222222222,
              "#7201a8"
             ],
             [
              0.3333333333333333,
              "#9c179e"
             ],
             [
              0.4444444444444444,
              "#bd3786"
             ],
             [
              0.5555555555555556,
              "#d8576b"
             ],
             [
              0.6666666666666666,
              "#ed7953"
             ],
             [
              0.7777777777777778,
              "#fb9f3a"
             ],
             [
              0.8888888888888888,
              "#fdca26"
             ],
             [
              1,
              "#f0f921"
             ]
            ],
            "type": "contour"
           }
          ],
          "contourcarpet": [
           {
            "colorbar": {
             "outlinewidth": 0,
             "ticks": ""
            },
            "type": "contourcarpet"
           }
          ],
          "heatmap": [
           {
            "colorbar": {
             "outlinewidth": 0,
             "ticks": ""
            },
            "colorscale": [
             [
              0,
              "#0d0887"
             ],
             [
              0.1111111111111111,
              "#46039f"
             ],
             [
              0.2222222222222222,
              "#7201a8"
             ],
             [
              0.3333333333333333,
              "#9c179e"
             ],
             [
              0.4444444444444444,
              "#bd3786"
             ],
             [
              0.5555555555555556,
              "#d8576b"
             ],
             [
              0.6666666666666666,
              "#ed7953"
             ],
             [
              0.7777777777777778,
              "#fb9f3a"
             ],
             [
              0.8888888888888888,
              "#fdca26"
             ],
             [
              1,
              "#f0f921"
             ]
            ],
            "type": "heatmap"
           }
          ],
          "heatmapgl": [
           {
            "colorbar": {
             "outlinewidth": 0,
             "ticks": ""
            },
            "colorscale": [
             [
              0,
              "#0d0887"
             ],
             [
              0.1111111111111111,
              "#46039f"
             ],
             [
              0.2222222222222222,
              "#7201a8"
             ],
             [
              0.3333333333333333,
              "#9c179e"
             ],
             [
              0.4444444444444444,
              "#bd3786"
             ],
             [
              0.5555555555555556,
              "#d8576b"
             ],
             [
              0.6666666666666666,
              "#ed7953"
             ],
             [
              0.7777777777777778,
              "#fb9f3a"
             ],
             [
              0.8888888888888888,
              "#fdca26"
             ],
             [
              1,
              "#f0f921"
             ]
            ],
            "type": "heatmapgl"
           }
          ],
          "histogram": [
           {
            "marker": {
             "pattern": {
              "fillmode": "overlay",
              "size": 10,
              "solidity": 0.2
             }
            },
            "type": "histogram"
           }
          ],
          "histogram2d": [
           {
            "colorbar": {
             "outlinewidth": 0,
             "ticks": ""
            },
            "colorscale": [
             [
              0,
              "#0d0887"
             ],
             [
              0.1111111111111111,
              "#46039f"
             ],
             [
              0.2222222222222222,
              "#7201a8"
             ],
             [
              0.3333333333333333,
              "#9c179e"
             ],
             [
              0.4444444444444444,
              "#bd3786"
             ],
             [
              0.5555555555555556,
              "#d8576b"
             ],
             [
              0.6666666666666666,
              "#ed7953"
             ],
             [
              0.7777777777777778,
              "#fb9f3a"
             ],
             [
              0.8888888888888888,
              "#fdca26"
             ],
             [
              1,
              "#f0f921"
             ]
            ],
            "type": "histogram2d"
           }
          ],
          "histogram2dcontour": [
           {
            "colorbar": {
             "outlinewidth": 0,
             "ticks": ""
            },
            "colorscale": [
             [
              0,
              "#0d0887"
             ],
             [
              0.1111111111111111,
              "#46039f"
             ],
             [
              0.2222222222222222,
              "#7201a8"
             ],
             [
              0.3333333333333333,
              "#9c179e"
             ],
             [
              0.4444444444444444,
              "#bd3786"
             ],
             [
              0.5555555555555556,
              "#d8576b"
             ],
             [
              0.6666666666666666,
              "#ed7953"
             ],
             [
              0.7777777777777778,
              "#fb9f3a"
             ],
             [
              0.8888888888888888,
              "#fdca26"
             ],
             [
              1,
              "#f0f921"
             ]
            ],
            "type": "histogram2dcontour"
           }
          ],
          "mesh3d": [
           {
            "colorbar": {
             "outlinewidth": 0,
             "ticks": ""
            },
            "type": "mesh3d"
           }
          ],
          "parcoords": [
           {
            "line": {
             "colorbar": {
              "outlinewidth": 0,
              "ticks": ""
             }
            },
            "type": "parcoords"
           }
          ],
          "pie": [
           {
            "automargin": true,
            "type": "pie"
           }
          ],
          "scatter": [
           {
            "fillpattern": {
             "fillmode": "overlay",
             "size": 10,
             "solidity": 0.2
            },
            "type": "scatter"
           }
          ],
          "scatter3d": [
           {
            "line": {
             "colorbar": {
              "outlinewidth": 0,
              "ticks": ""
             }
            },
            "marker": {
             "colorbar": {
              "outlinewidth": 0,
              "ticks": ""
             }
            },
            "type": "scatter3d"
           }
          ],
          "scattercarpet": [
           {
            "marker": {
             "colorbar": {
              "outlinewidth": 0,
              "ticks": ""
             }
            },
            "type": "scattercarpet"
           }
          ],
          "scattergeo": [
           {
            "marker": {
             "colorbar": {
              "outlinewidth": 0,
              "ticks": ""
             }
            },
            "type": "scattergeo"
           }
          ],
          "scattergl": [
           {
            "marker": {
             "colorbar": {
              "outlinewidth": 0,
              "ticks": ""
             }
            },
            "type": "scattergl"
           }
          ],
          "scattermapbox": [
           {
            "marker": {
             "colorbar": {
              "outlinewidth": 0,
              "ticks": ""
             }
            },
            "type": "scattermapbox"
           }
          ],
          "scatterpolar": [
           {
            "marker": {
             "colorbar": {
              "outlinewidth": 0,
              "ticks": ""
             }
            },
            "type": "scatterpolar"
           }
          ],
          "scatterpolargl": [
           {
            "marker": {
             "colorbar": {
              "outlinewidth": 0,
              "ticks": ""
             }
            },
            "type": "scatterpolargl"
           }
          ],
          "scatterternary": [
           {
            "marker": {
             "colorbar": {
              "outlinewidth": 0,
              "ticks": ""
             }
            },
            "type": "scatterternary"
           }
          ],
          "surface": [
           {
            "colorbar": {
             "outlinewidth": 0,
             "ticks": ""
            },
            "colorscale": [
             [
              0,
              "#0d0887"
             ],
             [
              0.1111111111111111,
              "#46039f"
             ],
             [
              0.2222222222222222,
              "#7201a8"
             ],
             [
              0.3333333333333333,
              "#9c179e"
             ],
             [
              0.4444444444444444,
              "#bd3786"
             ],
             [
              0.5555555555555556,
              "#d8576b"
             ],
             [
              0.6666666666666666,
              "#ed7953"
             ],
             [
              0.7777777777777778,
              "#fb9f3a"
             ],
             [
              0.8888888888888888,
              "#fdca26"
             ],
             [
              1,
              "#f0f921"
             ]
            ],
            "type": "surface"
           }
          ],
          "table": [
           {
            "cells": {
             "fill": {
              "color": "#EBF0F8"
             },
             "line": {
              "color": "white"
             }
            },
            "header": {
             "fill": {
              "color": "#C8D4E3"
             },
             "line": {
              "color": "white"
             }
            },
            "type": "table"
           }
          ]
         },
         "layout": {
          "annotationdefaults": {
           "arrowcolor": "#2a3f5f",
           "arrowhead": 0,
           "arrowwidth": 1
          },
          "autotypenumbers": "strict",
          "coloraxis": {
           "colorbar": {
            "outlinewidth": 0,
            "ticks": ""
           }
          },
          "colorscale": {
           "diverging": [
            [
             0,
             "#8e0152"
            ],
            [
             0.1,
             "#c51b7d"
            ],
            [
             0.2,
             "#de77ae"
            ],
            [
             0.3,
             "#f1b6da"
            ],
            [
             0.4,
             "#fde0ef"
            ],
            [
             0.5,
             "#f7f7f7"
            ],
            [
             0.6,
             "#e6f5d0"
            ],
            [
             0.7,
             "#b8e186"
            ],
            [
             0.8,
             "#7fbc41"
            ],
            [
             0.9,
             "#4d9221"
            ],
            [
             1,
             "#276419"
            ]
           ],
           "sequential": [
            [
             0,
             "#0d0887"
            ],
            [
             0.1111111111111111,
             "#46039f"
            ],
            [
             0.2222222222222222,
             "#7201a8"
            ],
            [
             0.3333333333333333,
             "#9c179e"
            ],
            [
             0.4444444444444444,
             "#bd3786"
            ],
            [
             0.5555555555555556,
             "#d8576b"
            ],
            [
             0.6666666666666666,
             "#ed7953"
            ],
            [
             0.7777777777777778,
             "#fb9f3a"
            ],
            [
             0.8888888888888888,
             "#fdca26"
            ],
            [
             1,
             "#f0f921"
            ]
           ],
           "sequentialminus": [
            [
             0,
             "#0d0887"
            ],
            [
             0.1111111111111111,
             "#46039f"
            ],
            [
             0.2222222222222222,
             "#7201a8"
            ],
            [
             0.3333333333333333,
             "#9c179e"
            ],
            [
             0.4444444444444444,
             "#bd3786"
            ],
            [
             0.5555555555555556,
             "#d8576b"
            ],
            [
             0.6666666666666666,
             "#ed7953"
            ],
            [
             0.7777777777777778,
             "#fb9f3a"
            ],
            [
             0.8888888888888888,
             "#fdca26"
            ],
            [
             1,
             "#f0f921"
            ]
           ]
          },
          "colorway": [
           "#636efa",
           "#EF553B",
           "#00cc96",
           "#ab63fa",
           "#FFA15A",
           "#19d3f3",
           "#FF6692",
           "#B6E880",
           "#FF97FF",
           "#FECB52"
          ],
          "font": {
           "color": "#2a3f5f"
          },
          "geo": {
           "bgcolor": "white",
           "lakecolor": "white",
           "landcolor": "#E5ECF6",
           "showlakes": true,
           "showland": true,
           "subunitcolor": "white"
          },
          "hoverlabel": {
           "align": "left"
          },
          "hovermode": "closest",
          "mapbox": {
           "style": "light"
          },
          "paper_bgcolor": "white",
          "plot_bgcolor": "#E5ECF6",
          "polar": {
           "angularaxis": {
            "gridcolor": "white",
            "linecolor": "white",
            "ticks": ""
           },
           "bgcolor": "#E5ECF6",
           "radialaxis": {
            "gridcolor": "white",
            "linecolor": "white",
            "ticks": ""
           }
          },
          "scene": {
           "xaxis": {
            "backgroundcolor": "#E5ECF6",
            "gridcolor": "white",
            "gridwidth": 2,
            "linecolor": "white",
            "showbackground": true,
            "ticks": "",
            "zerolinecolor": "white"
           },
           "yaxis": {
            "backgroundcolor": "#E5ECF6",
            "gridcolor": "white",
            "gridwidth": 2,
            "linecolor": "white",
            "showbackground": true,
            "ticks": "",
            "zerolinecolor": "white"
           },
           "zaxis": {
            "backgroundcolor": "#E5ECF6",
            "gridcolor": "white",
            "gridwidth": 2,
            "linecolor": "white",
            "showbackground": true,
            "ticks": "",
            "zerolinecolor": "white"
           }
          },
          "shapedefaults": {
           "line": {
            "color": "#2a3f5f"
           }
          },
          "ternary": {
           "aaxis": {
            "gridcolor": "white",
            "linecolor": "white",
            "ticks": ""
           },
           "baxis": {
            "gridcolor": "white",
            "linecolor": "white",
            "ticks": ""
           },
           "bgcolor": "#E5ECF6",
           "caxis": {
            "gridcolor": "white",
            "linecolor": "white",
            "ticks": ""
           }
          },
          "title": {
           "x": 0.05
          },
          "xaxis": {
           "automargin": true,
           "gridcolor": "white",
           "linecolor": "white",
           "ticks": "",
           "title": {
            "standoff": 15
           },
           "zerolinecolor": "white",
           "zerolinewidth": 2
          },
          "yaxis": {
           "automargin": true,
           "gridcolor": "white",
           "linecolor": "white",
           "ticks": "",
           "title": {
            "standoff": 15
           },
           "zerolinecolor": "white",
           "zerolinewidth": 2
          }
         }
        },
        "title": {
         "text": "Curva de Indiferença"
        },
        "xaxis": {
         "title": {
          "text": "B"
         }
        },
        "yaxis": {
         "title": {
          "text": "A"
         }
        }
       }
      }
     },
     "metadata": {},
     "output_type": "display_data"
    }
   ],
   "source": [
    "import pandas as pd\n",
    "import plotly.graph_objects as go\n",
    "import numpy as np\n",
    "\n",
    "\n",
    "def CurvaDeIndiferenca(B,max_B):\n",
    "  return max_B/B\n",
    "\n",
    "B = np.arange(6)\n",
    "fig = go.Figure() \n",
    "\n",
    "fig.add_trace(go.Scatter(x = B, y = CurvaDeIndiferenca(B,np.max(B)))) \n",
    "# o comando fig.update_layout nos permite alterar o layout do gráfico, nesse casos vamos adicionar os títulos do gráfico e dos #textos \n",
    "fig.update_layout(title='Curva de Indiferença',\n",
    "xaxis_title='B',\n",
    "yaxis_title='A')\n",
    "fig.show() #mostra o gráfico\n",
    "\n"
   ]
  },
  {
   "cell_type": "markdown",
   "metadata": {},
   "source": [
    "# Aula 24/08\n",
    "\n",
    "Aula passada tive que trazer o notebook da firmas\n",
    "\n",
    "- Custos: oportunidade, irreversíveis, e etc\n",
    "\n",
    "- [Expectation Confirmation Theory](https://en.wikipedia.org/wiki/Expectation_confirmation_theory): esse cara pode estar na minha dissertação! [Oliver Williamnson](https://pt.wikipedia.org/wiki/Oliver_Williamson)\n",
    "\n",
    "- Formato das curvas de custo\n",
    "- Escolhas de insumos e minimização de custos\n",
    "$$C=wL+rK,$$\n",
    "onde w e r são pesos do trabalho e do capital respectivamente\n",
    "\n",
    "- Caminho da expansão: tangente entre as linhas de isoqusto e as isoquantas é o caminho da expansão.\n",
    "- Fronteiras vericais da empresa\n",
    "- Make Or Buy: decisão entre comprar ou fabricar\n",
    "\n",
    "## Comentário dos artigos\n",
    "\n",
    "- Food Waste\n",
    "    - Problema no titulo, titulo longo.\n",
    "    - Prof nao gosta de titulo que fala do método\n",
    "    - Angus Deaton: referência para o uso do QUAID utilizado no desperdício de comida\n",
    "    "
   ]
  },
  {
   "cell_type": "markdown",
   "metadata": {},
   "source": [
    "# Aula 31/08\n",
    "\n",
    "- Conflitos de agencia\n",
    "- Jensen e Mattens (???) Agency Investments (???)\n",
    "\n",
    "- Vamos pesquisar sobre business history\n",
    "- contratos completos vs contratos incompletos \n",
    "    - é completo quando o acordo é ganha-ganha\n",
    "    - incompleto é quando uma parte tira vantagem sobre o outro\n",
    "- Contratos: \n",
    "    - as partes devem ser capazes de mensurar o desempenho\n",
    "\n",
    "- Racionalidade imperfeita e informação assimétrica\n",
    "- Litigio contratual\n",
    "    - Litigio é quebra de contratoo\n",
    "- Coordenação de fluxos através de cadeias verticais\n",
    "\n",
    "- Custos de transação \n",
    "    - Ronald Coase - \"Nature of the firm\"\n",
    "    - é determinado pela comparação entre produção local ou terceirização\n",
    "- Integração vertical\n",
    "    - Total controle da cadeia de suprimentos\n",
    "    - Prof trouxe artigos que aboravam a integração verical\n",
    "\n",
    "- Teoria GHM\n",
    "    - Decisão de fazer ou comprar determina a propriedade e o controle dos ativos\n",
    "\n",
    "\n",
    " Sobre o artigo da resenha\n",
    "- M&A provoca aumento no custo dos salários (alta gestão salario alto, conflito de agência típico)\n",
    "\n",
    "\n",
    "Outro artigo: o do market power. Distancia das pessoas ao supermercado\n",
    "consumidor menos tempo para fazer compras. Se a distancia aumenta, menor a racionalidade do consumidor.\n"
   ]
  },
  {
   "cell_type": "code",
   "execution_count": 29,
   "metadata": {},
   "outputs": [
    {
     "data": {
      "image/png": "[encoded data removed]",
      "text/plain": [
       "<Figure size 640x480 with 1 Axes>"
      ]
     },
     "metadata": {},
     "output_type": "display_data"
    }
   ],
   "source": [
    "# Lista de exercícios\n",
    "\n",
    "# Ex 2\n",
    "import matplotlib.pyplot as plt\n",
    "\n",
    "\n",
    "# Definir os pontos de dados\n",
    "x11, x12, x13 = 10, 7, 8\n",
    "x21, x22, x23 = 20, 19, 31\n",
    "\n",
    "# Plotar os pontos de dados\n",
    "plt.plot([x11, x12, x13], [x21, x22, x23], 'o')\n",
    "\n",
    "# Plotar as curvas de indiferença\n",
    "plt.plot([20, 0], [0, 40], '--', label='I1',c=\"#ADD8E6\")\n",
    "plt.plot([13.33333333, 0], [0, 40], '--', label='I2',c='#0000FF')\n",
    "plt.plot([18.33333333, 0], [0, 55], '--', label='I3',c='#00008B')\n",
    "\n",
    "# Adicionar texto aos pontos\n",
    "plt.text(x11, x21, 'Semana 1', size='small')\n",
    "plt.text(x12, x22, 'Semana 2', size='small')\n",
    "plt.text(x13, x23, 'Semana 3', size='small')\n",
    "\n",
    "# Definir os eixos\n",
    "plt.xlabel('X1')\n",
    "plt.ylabel('X2')\n",
    "\n",
    "# Mostrar o gráfico\n",
    "plt.show()\n"
   ]
  },
  {
   "cell_type": "code",
   "execution_count": 31,
   "metadata": {},
   "outputs": [
    {
     "data": {
      "image/png": "[encoded data removed]",
      "text/plain": [
       "<Figure size 640x480 with 1 Axes>"
      ]
     },
     "metadata": {},
     "output_type": "display_data"
    }
   ],
   "source": [
    "# Lista de exercícios\n",
    "\n",
    "# Ex 2\n",
    "import matplotlib.pyplot as plt\n",
    "\n",
    "\n",
    "# Definir os pontos de dados\n",
    "x11, x12, x13 = 10, 6, 20\n",
    "x21, x22, x23 = 20, 14, 10\n",
    "\n",
    "# Plotar os pontos de dados\n",
    "plt.plot([x11, x12, x13], [x21, x22, x23], 'o')\n",
    "\n",
    "# Plotar as curvas de indiferença\n",
    "plt.plot([20, 0], [0, 40], '--', label='I1',c='#D9D9FF')\n",
    "plt.plot([20, 0], [0, 20], '--', label='I2',c=\"#7E7EFF\")\n",
    "plt.plot([30, 0], [0, 30], '--', label='I3',c='#551A8B')\n",
    "\n",
    "# Adicionar texto aos pontos\n",
    "plt.text(x11, x21, 'Semana 1', size='small')\n",
    "plt.text(x12, x22, 'Semana 2', size='small')\n",
    "plt.text(x13, x23, 'Semana 3', size='small')\n",
    "\n",
    "# Definir os eixos\n",
    "plt.xlabel('X1')\n",
    "plt.ylabel('X2')\n",
    "\n",
    "# Mostrar o gráfico\n",
    "plt.show()\n"
   ]
  },
  {
   "cell_type": "code",
   "execution_count": 41,
   "metadata": {},
   "outputs": [
    {
     "data": {
      "image/png": "[encoded data removed]",
      "text/plain": [
       "<Figure size 640x480 with 1 Axes>"
      ]
     },
     "metadata": {},
     "output_type": "display_data"
    }
   ],
   "source": [
    "import matplotlib.pyplot as plt\n",
    "\n",
    "# Definir os preços e os coeficientes das curvas de demanda\n",
    "p = [0, 35, 50]\n",
    "qp = [500, 325, 250]\n",
    "qa = [200, 60, 0]\n",
    "\n",
    "# Plotar as curvas de demanda\n",
    "plt.plot(p, qp, 'r', label='Público geral (Qp)')\n",
    "plt.plot(p, qa, 'b', label='Alunos (Qa)')\n",
    "\n",
    "# Adicionar uma linha vertical\n",
    "plt.axvline(x=35, color='k', linestyle=\"--\")\n",
    "\n",
    "# Adicionar labels para as curvas\n",
    "plt.legend(loc='upper right')\n",
    "\n",
    "\n",
    "# Definir os eixos\n",
    "plt.xlabel('Preço (US$)')\n",
    "plt.ylabel('Quantidade demandada')\n",
    "\n",
    "# Mostrar o gráfico\n",
    "plt.show()\n"
   ]
  },
  {
   "cell_type": "code",
   "execution_count": 46,
   "metadata": {},
   "outputs": [
    {
     "data": {
      "image/png": "[encoded data removed]",
      "text/plain": [
       "<Figure size 640x480 with 1 Axes>"
      ]
     },
     "metadata": {},
     "output_type": "display_data"
    }
   ],
   "source": [
    "import matplotlib.pyplot as plt\n",
    "\n",
    "# Definir os preços e as quantidades demandadas\n",
    "p = [0, 25, 39 ,50]\n",
    "qt = [700 - 9 * 0, 700 - 9 * 25, 700 - 9 * 39, 700 - 9 * 50]\n",
    "\n",
    "# Calcular a receita\n",
    "r = [p[0]*qt[0],p[1]*qt[1],p[2]*qt[2],p[3]*qt[3]]\n",
    "\n",
    "# Plotar a receita\n",
    "plt.plot(p, r, 'r')\n",
    "\n",
    "# Definir os eixos\n",
    "plt.xlabel('Preço (US$)')\n",
    "plt.ylabel('Receita (US$)')\n",
    "\n",
    "# Mostrar o gráfico\n",
    "plt.show()\n"
   ]
  }
 ],
 "metadata": {
  "kernelspec": {
   "display_name": "Python 3",
   "language": "python",
   "name": "python3"
  },
  "language_info": {
   "codemirror_mode": {
    "name": "ipython",
    "version": 3
   },
   "file_extension": ".py",
   "mimetype": "text/x-python",
   "name": "python",
   "nbconvert_exporter": "python",
   "pygments_lexer": "ipython3",
   "version": "3.10.6"
  },
  "orig_nbformat": 4
 },
 "nbformat": 4,
 "nbformat_minor": 2
}
