{
 "cells": [
  {
   "cell_type": "markdown",
   "metadata": {},
   "source": [
    "# 09/08\n",
    "\n",
    "Apresentação hoje.\n",
    "\n",
    "## Apresentação antes de mim (artigo sobre sistema monetário ideal)\n",
    "\n",
    "Acho que o nome do rapaz é Guilherme.\n",
    "\n",
    "Padrçao ouro clássico (POC)\n",
    "    - Europa vs. Fora da Europa: clausulas de escape ajudaram o POC. Mas também não durou.\n",
    "- Bretton Woods: clausula de escape era o FMI\n",
    "    - Ajuda da contenção das pressões do meracdo\n",
    "- Pós-Bretton Woods:\n",
    "    - Tentativa de etabilização das taxas de cambio dos países europeus.\n",
    "    - Acordo de Plaza e do Louvre: tentativa de cooperação internacional. Não deu certo.\n",
    "    - Sistema Monetário Europeu (SME)\n",
    "\n",
    "Solução: aprender a conviver com taxas de cambio flutuantes.\n",
    "\n",
    "Alternatnivas:\n",
    "    - Moeda mundial unica,\n",
    "    - Bandas cambiais\n",
    "\n",
    "1979: criação do *sistema* SELIC\n",
    "\n",
    "Moeda única: troca o trilema da política monetária por um dilema\n",
    "\n",
    "- O declínio de Bretton-Woods e a emergência dos mercados globalizados\n",
    "    - Prof Belluzzo: economista, prof da Unicamp, Ex presidente do BNDES e do Palmeiras\n",
    "\n",
    "- Contexto do surgimento: segunda guerra mundial (filme chamado Babilonia: Margot e Brad Pitt)\n",
    "- Capitalismo vs Totalitarismo vs Socialismo\n",
    "- Criação de duas instituições multilaterais (FMI e BIRD, futuro Banco Mundial)\n",
    "- Mentores: Keynes e Dexter White\n",
    "- Moeda bancária (quase que única): a moeda *bancor*\n",
    "- Ascensão dos parceiros/competidores: Japão e Alemanha\n",
    "- Problemas:\n",
    "    - Volatilidade das taxas de juros\n",
    "    - Volatilidade das taxas de cambio\n",
    "    - Ampliação dos mercados de dívida pública (securitização)\n",
    "    - Supremacia dos mercados de capitais em detrimento dos bancos\n",
    "    - Mercados emergentes: problemas em classificar os devedores (teoria dos mercados eficientes)\n",
    "\n",
    "\n",
    "- Padrão ouro\n",
    "    - Mecanismos Gold Points: cambio entre onça de ouro e libra/dolar\n",
    "- Entreguerras: acordo de Genova em 1922 para reservas tanto em ouro quanto em dólar\n",
    "- Bretton-Woods: objetivo de corrigir o padrão ouro\n",
    "- Esse texto é legal porque tem os dados econômicos!"
   ]
  },
  {
   "cell_type": "code",
   "execution_count": null,
   "metadata": {
    "vscode": {
     "languageId": "plaintext"
    }
   },
   "outputs": [],
   "source": []
  }
 ],
 "metadata": {
  "language_info": {
   "name": "python"
  },
  "orig_nbformat": 4
 },
 "nbformat": 4,
 "nbformat_minor": 2
}
