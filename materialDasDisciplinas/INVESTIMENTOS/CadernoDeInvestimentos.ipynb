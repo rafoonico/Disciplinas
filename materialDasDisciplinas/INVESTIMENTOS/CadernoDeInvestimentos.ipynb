{
 "cells": [
  {
   "cell_type": "markdown",
   "metadata": {},
   "source": [
    "# Aula 26/09\n",
    "\n",
    "A aula é parecida com a aula da professora Larissa, no sentido de que a gente vai apresentar e vai ter debatedores toda a aula.\n",
    "\n",
    "Cara.. preciso trocar a bateria do notebook\n",
    "\n",
    "# Aula 03/10\n",
    "\n",
    "Cap 1, 2 e 3 do livro. \n",
    "Bem introdutorio. Microestrutura do mercado\n",
    "\n",
    "Ativo Real vs. Ativo Financeiro: o primeiro, usa no tempo presente para gerar lucro. E o segundo abre mão do presente em detrimento de um provável retorno no futuro.\n",
    "\n",
    "Depois, ele fala dos tipos de ativos e etc.\n",
    "\n",
    "Carteiras Ascendentes: investir ativos com tendências positivas\n",
    "\n",
    "Carteiras Descendentes: investir ativos com preço baixo ou subvalorizados\n",
    "\n",
    "\n",
    "Mercados eficientes (é em relação a informação de mercado)\n",
    "Eficiência fraca: informações passadas e públicas influenciam o preço atual\n",
    "Eficiência semi-forte: informações passadas e públicas, mais informações novas-instantâneas influenciam o preço atual\n",
    "Eficiência forte: informações passadas e públicas, mais informações novas-instantâneas, e mais as informações ocultas/privilegiadas influenciam o preço atual\n",
    "\n",
    "Participantes do mercado financeiros:\n",
    "\n",
    "Empresas - Interessadas em obter recursos para gerar ativos reais \n",
    "Famílias - Interessadas em ceder recursos para empresas, sob a forma de ativos financeiros\n",
    "Governos - Regulação e também tem interesse em obter recursos para gerar ativos reais\n",
    "\n",
    "Market maker e como funciona a bolsa de valores\n",
    "\n",
    "\n",
    "# Aula 10/10\n",
    "\n",
    "Hoje foi apresentação.... TENSO\n",
    "\n",
    "Artigo: Understanding Risk and Return\n",
    "\n",
    "- Modelo de asset pricing model utilizando equilibrio intertemporal para interpretar o padrão cross-section do retorno da ação e renda fixa (bonds)\n",
    "\n",
    "![](capm.jpg)\n",
    "\n",
    "- Provocação do artigo: além do CAPM que outras variáveis a gente pode utilizar?\n",
    "\n",
    "\n",
    "\n",
    "\n",
    "HFT\n",
    "\n",
    "- \n",
    "\n",
    "\n"
   ]
  },
  {
   "cell_type": "markdown",
   "metadata": {},
   "source": [
    "# Carteira de investimentos\n",
    "\n",
    "- Quais quer dois ativos, formam uma carteira.\n",
    "- Os capítulos 7 e 8 discorrem sobre como alocar o capital entre os ativos, de modo a maximizar os retornos obtidos com os ativos.\n",
    "\n"
   ]
  }
 ],
 "metadata": {
  "language_info": {
   "name": "python"
  },
  "orig_nbformat": 4
 },
 "nbformat": 4,
 "nbformat_minor": 2
}
