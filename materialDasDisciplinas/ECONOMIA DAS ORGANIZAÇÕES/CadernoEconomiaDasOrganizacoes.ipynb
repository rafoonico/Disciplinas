{
 "cells": [
  {
   "cell_type": "markdown",
   "metadata": {},
   "source": [
    "# Aula (20/09)\n",
    "\n",
    "\n",
    "[Livro](https://integrada.minhabiblioteca.com.br/#/explore): \n",
    "\n",
    "- [economia das estratégias](https://integrada.minhabiblioteca.com.br/reader/books/9788540700581/pageid/10) - tá na biblioteca eletrônica!\n",
    "- [economia industrial](https://integrada.minhabiblioteca.com.br/reader/books/9788595157194/epubcfi/6/20[%3Bvnd.vst.idref%3Dcontents]!/4/488/2) - tá na biblioteca eletrônica!\n",
    "\n",
    "Atividades:\n",
    "\n",
    "- Todas as aulas, elaborar um relatório de 800 palavras de cada uma das duas apresentações\n",
    "- Apresentação (G3): William, Rafael e Murilo\n",
    "\n",
    "\n",
    "\n",
    "Economias de escala e escopo\n",
    "\n",
    "- Inovação como temática na economia: começa com o Schumpeter\n",
    "\n",
    "Fronteiras horizontais: qtde e variedade de produtos\n",
    "Fronteiras verticais: qtde de atividades executadas internamente\n",
    "Fronteiras corporativas: qtde de diferentes negócios nos quais a empresa compete\n",
    "\n"
   ]
  },
  {
   "cell_type": "markdown",
   "metadata": {},
   "source": [
    "# Aula 27/09\n",
    "\n",
    "Nao vou conseguir anotar nada... a bateria do notebook simplesmente não está durando nada!\n",
    "\n",
    "# Aula 04/10\n",
    "\n",
    "Firma: empresa com objetivo de gerar lucros\n",
    "Analise setorial: analise de algum agrupameto de firmas\n",
    "\n",
    "# Aula 11/10\n",
    "\n",
    "Competição, definição de empresa e leis antitruste\n",
    "\n",
    "Posicionamento de marca\n",
    "\n"
   ]
  },
  {
   "cell_type": "markdown",
   "metadata": {},
   "source": []
  }
 ],
 "metadata": {
  "language_info": {
   "name": "python"
  },
  "orig_nbformat": 4
 },
 "nbformat": 4,
 "nbformat_minor": 2
}
